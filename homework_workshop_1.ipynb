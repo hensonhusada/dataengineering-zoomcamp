{
 "cells": [
  {
   "cell_type": "code",
   "execution_count": 1,
   "id": "d2ab5516-64da-495f-8435-75bf425af458",
   "metadata": {},
   "outputs": [
    {
     "name": "stdout",
     "output_type": "stream",
     "text": [
      "8.382332347441762\n"
     ]
    }
   ],
   "source": [
    "def square_root_generator(limit):\n",
    "    n = 1\n",
    "    while n <= limit:\n",
    "        yield n ** 0.5\n",
    "        n += 1\n",
    "\n",
    "# Example usage:\n",
    "limit = 5\n",
    "generator = square_root_generator(limit)\n",
    "\n",
    "sum = 0\n",
    "for sqrt_value in generator:\n",
    "    sum += sqrt_value\n",
    "print(sum)\n"
   ]
  },
  {
   "cell_type": "code",
   "execution_count": 2,
   "id": "4777c9b8-1891-4a03-b094-0d56a5af6b23",
   "metadata": {},
   "outputs": [
    {
     "name": "stdout",
     "output_type": "stream",
     "text": [
      "1.0\n",
      "1.4142135623730951\n",
      "1.7320508075688772\n",
      "2.0\n",
      "2.23606797749979\n",
      "2.449489742783178\n",
      "2.6457513110645907\n",
      "2.8284271247461903\n",
      "3.0\n",
      "3.1622776601683795\n",
      "3.3166247903554\n",
      "3.4641016151377544\n",
      "3.605551275463989\n"
     ]
    }
   ],
   "source": [
    "def square_root_generator(limit):\n",
    "    n = 1\n",
    "    while n <= limit:\n",
    "        yield n ** 0.5\n",
    "        n += 1\n",
    "\n",
    "# Example usage:\n",
    "limit = 13\n",
    "generator = square_root_generator(limit)\n",
    "\n",
    "sum = 0\n",
    "for sqrt_value in generator:\n",
    "    print(sqrt_value)"
   ]
  },
  {
   "cell_type": "code",
   "execution_count": 15,
   "id": "cdf1243e-f74b-4cc1-8d3c-8c5857fa42ee",
   "metadata": {},
   "outputs": [],
   "source": [
    "def people_1():\n",
    "    for i in range(1, 6):\n",
    "        yield {\"ID\": i, \"Name\": f\"Person_{i}\", \"Age\": 25 + i, \"City\": \"City_A\"}\n",
    "\n",
    "# data = []\n",
    "# for person in people_1():\n",
    "#     data.append(person)\n",
    "\n",
    "\n",
    "def people_2():\n",
    "    for i in range(3, 9):\n",
    "        yield {\"ID\": i, \"Name\": f\"Person_{i}\", \"Age\": 30 + i, \"City\": \"City_B\", \"Occupation\": f\"Job_{i}\"}\n",
    "\n",
    "data = []\n",
    "for person in people_2():\n",
    "    data.append(person)\n"
   ]
  },
  {
   "cell_type": "code",
   "execution_count": 2,
   "id": "2a2943f1-d88a-45ac-ad6b-d842a80c180c",
   "metadata": {},
   "outputs": [],
   "source": [
    "import dlt"
   ]
  },
  {
   "cell_type": "code",
   "execution_count": 8,
   "id": "6d869d68-ec9e-457e-9700-b02d09d3e96d",
   "metadata": {},
   "outputs": [],
   "source": [
    "pipeline = dlt.pipeline(pipeline_name=\"user_data_ex\",\n",
    "\t\t\t\t\t\tdestination='duckdb', \n",
    "\t\t\t\t\t\tdataset_name='user_data_example')\n",
    "\n",
    "# run the pipeline with default settings, and capture the outcome\n",
    "info = pipeline.run(data, \n",
    "                    table_name=\"users\", \n",
    "                    write_disposition=\"append\")"
   ]
  },
  {
   "cell_type": "code",
   "execution_count": 9,
   "id": "b50c55fc-54b4-4d77-87cc-8311482cb16d",
   "metadata": {},
   "outputs": [
    {
     "name": "stdout",
     "output_type": "stream",
     "text": [
      "Pipeline user_data_ex load step completed in 0.29 seconds\n",
      "1 load package(s) were loaded to destination duckdb and into dataset user_data_example\n",
      "The duckdb destination used duckdb:////home/henson/dataengineering/notebooks/user_data_ex.duckdb location to store data\n",
      "Load package 1707449386.603296 is LOADED and contains no failed jobs\n"
     ]
    }
   ],
   "source": [
    "print(info)"
   ]
  },
  {
   "cell_type": "code",
   "execution_count": 5,
   "id": "46c700fb-93b2-4d9f-a1f0-efb6b4572041",
   "metadata": {},
   "outputs": [],
   "source": [
    "import duckdb\n",
    "# duckdb.sql(\"SELECT * from system.information_schema.tables\").show()\n",
    "con = duckdb.connect(\"user_data_ex.duckdb\")"
   ]
  },
  {
   "cell_type": "code",
   "execution_count": 21,
   "id": "2a4f4af7-2165-4d9f-b15d-418de94af84e",
   "metadata": {},
   "outputs": [
    {
     "data": {
      "text/plain": [
       "┌──────────┐\n",
       "│ sum(age) │\n",
       "│  int128  │\n",
       "├──────────┤\n",
       "│      266 │\n",
       "└──────────┘"
      ]
     },
     "execution_count": 21,
     "metadata": {},
     "output_type": "execute_result"
    }
   ],
   "source": [
    "con.sql(\"select sum(age) from user_data_example.users_new\")"
   ]
  },
  {
   "cell_type": "code",
   "execution_count": 19,
   "id": "7958560c-0268-4152-911c-cb4bec446038",
   "metadata": {},
   "outputs": [],
   "source": [
    "pipeline = dlt.pipeline(pipeline_name=\"user_data_ex\",\n",
    "\t\t\t\t\t\tdestination='duckdb', \n",
    "\t\t\t\t\t\tdataset_name='user_data_example')\n",
    "\n",
    "# run the pipeline with default settings, and capture the outcome\n",
    "info = pipeline.run(data, \n",
    "                    table_name=\"users_new\", \n",
    "                    write_disposition=\"merge\",\n",
    "                    primary_key=\"id\")"
   ]
  },
  {
   "cell_type": "code",
   "execution_count": null,
   "id": "0b5bb8e8-edfb-4a4a-933a-afaea0be207e",
   "metadata": {},
   "outputs": [],
   "source": []
  }
 ],
 "metadata": {
  "kernelspec": {
   "display_name": "Python 3 (ipykernel)",
   "language": "python",
   "name": "python3"
  },
  "language_info": {
   "codemirror_mode": {
    "name": "ipython",
    "version": 3
   },
   "file_extension": ".py",
   "mimetype": "text/x-python",
   "name": "python",
   "nbconvert_exporter": "python",
   "pygments_lexer": "ipython3",
   "version": "3.10.12"
  }
 },
 "nbformat": 4,
 "nbformat_minor": 5
}
